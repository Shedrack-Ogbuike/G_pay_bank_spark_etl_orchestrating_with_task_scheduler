{
 "cells": [
  {
   "cell_type": "code",
   "execution_count": 79,
   "id": "a49da7ae",
   "metadata": {},
   "outputs": [],
   "source": [
    "# Installing pyspark on a local machine\n",
    "# import Necessary libraries\n",
    "from pyspark.sql import SparkSession\n",
    "from pyspark.sql import functions as F\n",
    "from pyspark.sql.types import StructType, StructField, StringType, IntegerType\n",
    "from pyspark.sql import DataFrameWriter\n",
    "from pyspark.sql.functions import monotonically_increasing_id\n",
    "from pyspark.sql.functions import col\n",
    "import os\n",
    "import psycopg2\n"
   ]
  },
  {
   "cell_type": "code",
   "execution_count": 47,
   "id": "870aa9a0",
   "metadata": {},
   "outputs": [],
   "source": [
    "# Initialize Spark session\n",
    "spark = SparkSession.builder \\\n",
    "    .appName(\"BanksETL\") \\\n",
    "    .master(\"local[*]\") \\\n",
    "    .config(\"spark.jars\", r\"C:\\Users\\user\\Desktop\\G_pay_bank\\postgresql-42.7.7.jar\") \\\n",
    "    .getOrCreate()"
   ]
  },
  {
   "cell_type": "code",
   "execution_count": 48,
   "id": "4fd8782a",
   "metadata": {},
   "outputs": [
    {
     "data": {
      "text/html": [
       "\n",
       "            <div>\n",
       "                <p><b>SparkSession - in-memory</b></p>\n",
       "                \n",
       "        <div>\n",
       "            <p><b>SparkContext</b></p>\n",
       "\n",
       "            <p><a href=\"http://DESKTOP-NV8LV4E.mshome.net:4040\">Spark UI</a></p>\n",
       "\n",
       "            <dl>\n",
       "              <dt>Version</dt>\n",
       "                <dd><code>v4.0.0</code></dd>\n",
       "              <dt>Master</dt>\n",
       "                <dd><code>local[*]</code></dd>\n",
       "              <dt>AppName</dt>\n",
       "                <dd><code>BanksETL</code></dd>\n",
       "            </dl>\n",
       "        </div>\n",
       "        \n",
       "            </div>\n",
       "        "
      ],
      "text/plain": [
       "<pyspark.sql.session.SparkSession at 0x1602c68e660>"
      ]
     },
     "execution_count": 48,
     "metadata": {},
     "output_type": "execute_result"
    }
   ],
   "source": [
    "spark"
   ]
  },
  {
   "cell_type": "code",
   "execution_count": 49,
   "id": "a6206fc7",
   "metadata": {},
   "outputs": [],
   "source": [
    "# Extract  this history data into a spark dataframe\n",
    "df = spark.read.csv(r\"dataset\\rawdata\\G_pay_bank_transactions.csv\", header=True, inferSchema=True)\n"
   ]
  },
  {
   "cell_type": "code",
   "execution_count": 50,
   "id": "7bb7113a",
   "metadata": {},
   "outputs": [
    {
     "name": "stdout",
     "output_type": "stream",
     "text": [
      "+--------------------+------+----------------+--------------+--------------------+------------------+--------------+--------------------+--------------------+--------------------+--------------------+-------------------+------------------+--------------------+-------------+-------------+--------+-----+---------+--------------------+--------------------+------+--------------+\n",
      "|    Transaction_Date|Amount|Transaction_Type| Customer_Name|    Customer_Address|     Customer_City|Customer_State|    Customer_Country|             Company|           Job_Title|               Email|       Phone_Number|Credit_Card_Number|                IBAN|Currency_Code|Random_Number|Category|Group|Is_Active|        Last_Updated|         Description|Gender|Marital_Status|\n",
      "+--------------------+------+----------------+--------------+--------------------+------------------+--------------+--------------------+--------------------+--------------------+--------------------+-------------------+------------------+--------------------+-------------+-------------+--------+-----+---------+--------------------+--------------------+------+--------------+\n",
      "|2024-03-23 15:38:...| 34.76|      Withdrawal|    James Neal|54912 Holmes Lodg...| West Keithborough|       Florida|                Togo|Benson, Johnson a...|                NULL|                NULL|  493.720.6609x7545|  3592901394693441|GB98RBPP090285271...|          MAD|       3167.0|       C|    Z|       No|2020-06-20 03:04:...|Yeah food anythin...| Other|      Divorced|\n",
      "|2024-04-22 19:15:...|163.92|      Withdrawal|   Thomas Long| 1133 Collin Passage|        Joshuabury|   Connecticut|Lao People's Demo...|                NULL|   Food technologist|michellelynch@exa...|      (497)554-3317|              NULL|GB03KFZR339662263...|          VEF|       2122.0|       B|    Z|     NULL|2020-12-27 13:23:...|Teach edge make n...|Female|       Married|\n",
      "|2024-04-12 19:46:...|386.32|      Withdrawal|Ashley Shelton|5297 Johnson Port...|       North Maria|    New Jersey|              Bhutan|       Jones-Mueller|Database administ...| ljordan@example.org|      (534)769-3072|      675983949974|GB59QYRN446730519...|          COP|       7796.0|       C|    Z|       No|2020-01-24 01:23:...|Again line face c...| Other|          NULL|\n",
      "|2024-04-17 15:29:...|407.15|         Deposit| James Rosario|56955 Moore Glens...|North Michellefurt|    New Mexico|             Iceland|       Vargas-Harris|Horticultural the...|parkerjames@examp...|+1-447-900-1320x257|     4761202519057|GB74FTDO268299438...|          BWP|       6284.0|       C|    Z|      Yes|2023-09-27 03:01:...|     Bag my a drive.|  NULL|          NULL|\n",
      "|2024-02-10 01:51:...|161.31|         Deposit|Miguel Leonard|262 Beck Expressw...|              NULL| West Virginia|             Eritrea|Richardson, Gonza...|   Minerals surveyor| zweaver@example.net|               NULL|   213156729655186|GB94EWRN587847592...|          SOS|       9179.0|       C|    Y|       No|2022-01-22 19:08:...|Husband find ok w...|Female|       Married|\n",
      "+--------------------+------+----------------+--------------+--------------------+------------------+--------------+--------------------+--------------------+--------------------+--------------------+-------------------+------------------+--------------------+-------------+-------------+--------+-----+---------+--------------------+--------------------+------+--------------+\n",
      "only showing top 5 rows\n"
     ]
    }
   ],
   "source": [
    "df.show(5)"
   ]
  },
  {
   "cell_type": "code",
   "execution_count": 51,
   "id": "7260bbb0",
   "metadata": {},
   "outputs": [
    {
     "name": "stdout",
     "output_type": "stream",
     "text": [
      "root\n",
      " |-- Transaction_Date: timestamp (nullable = true)\n",
      " |-- Amount: double (nullable = true)\n",
      " |-- Transaction_Type: string (nullable = true)\n",
      " |-- Customer_Name: string (nullable = true)\n",
      " |-- Customer_Address: string (nullable = true)\n",
      " |-- Customer_City: string (nullable = true)\n",
      " |-- Customer_State: string (nullable = true)\n",
      " |-- Customer_Country: string (nullable = true)\n",
      " |-- Company: string (nullable = true)\n",
      " |-- Job_Title: string (nullable = true)\n",
      " |-- Email: string (nullable = true)\n",
      " |-- Phone_Number: string (nullable = true)\n",
      " |-- Credit_Card_Number: long (nullable = true)\n",
      " |-- IBAN: string (nullable = true)\n",
      " |-- Currency_Code: string (nullable = true)\n",
      " |-- Random_Number: double (nullable = true)\n",
      " |-- Category: string (nullable = true)\n",
      " |-- Group: string (nullable = true)\n",
      " |-- Is_Active: string (nullable = true)\n",
      " |-- Last_Updated: timestamp (nullable = true)\n",
      " |-- Description: string (nullable = true)\n",
      " |-- Gender: string (nullable = true)\n",
      " |-- Marital_Status: string (nullable = true)\n",
      "\n"
     ]
    }
   ],
   "source": [
    "df.printSchema()"
   ]
  },
  {
   "cell_type": "code",
   "execution_count": 52,
   "id": "6c57d593",
   "metadata": {},
   "outputs": [
    {
     "name": "stdout",
     "output_type": "stream",
     "text": [
      "Column: Transaction_Date, Nulls: 0\n",
      "Column: Amount, Nulls: 0\n",
      "Column: Transaction_Type, Nulls: 0\n",
      "Column: Customer_Name, Nulls: 100425\n",
      "Column: Customer_Address, Nulls: 100087\n",
      "Column: Customer_City, Nulls: 100034\n",
      "Column: Customer_State, Nulls: 100009\n",
      "Column: Customer_Country, Nulls: 100672\n",
      "Column: Company, Nulls: 100295\n",
      "Column: Job_Title, Nulls: 99924\n",
      "Column: Email, Nulls: 100043\n",
      "Column: Phone_Number, Nulls: 100524\n",
      "Column: Credit_Card_Number, Nulls: 100085\n",
      "Column: IBAN, Nulls: 100300\n",
      "Column: Currency_Code, Nulls: 99342\n",
      "Column: Random_Number, Nulls: 99913\n",
      "Column: Category, Nulls: 100332\n",
      "Column: Group, Nulls: 100209\n",
      "Column: Is_Active, Nulls: 100259\n",
      "Column: Last_Updated, Nulls: 100321\n",
      "Column: Description, Nulls: 100403\n",
      "Column: Gender, Nulls: 99767\n",
      "Column: Marital_Status, Nulls: 99904\n"
     ]
    }
   ],
   "source": [
    "# Data cleaning and transformation\n",
    "for col in df.columns:\n",
    "    print(f\"Column: {col}, Nulls: {df.filter(df[col].isNull()).count()}\")\n"
   ]
  },
  {
   "cell_type": "code",
   "execution_count": 53,
   "id": "4c82fed4",
   "metadata": {},
   "outputs": [
    {
     "name": "stdout",
     "output_type": "stream",
     "text": [
      "+-------+-----------------+----------------+-------------+--------------------+-------------+--------------+----------------+-------------+------------------+-------------------+-------------------+--------------------+--------------------+-------------+------------------+--------+------+---------+--------------------+------+--------------+\n",
      "|summary|           Amount|Transaction_Type|Customer_Name|    Customer_Address|Customer_City|Customer_State|Customer_Country|      Company|         Job_Title|              Email|       Phone_Number|  Credit_Card_Number|                IBAN|Currency_Code|     Random_Number|Category| Group|Is_Active|         Description|Gender|Marital_Status|\n",
      "+-------+-----------------+----------------+-------------+--------------------+-------------+--------------+----------------+-------------+------------------+-------------------+-------------------+--------------------+--------------------+-------------+------------------+--------+------+---------+--------------------+------+--------------+\n",
      "|  count|          1000000|         1000000|       899575|              899913|       899966|        899991|          899328|       899705|            900076|             899957|             899476|              899915|              899700|       900658|            900087|  899668|899791|   899741|              899597|900233|        900096|\n",
      "|   mean|504.9737112199981|            NULL|         NULL|                NULL|         NULL|          NULL|            NULL|         NULL|              NULL|               NULL| 6.00341888622502E9|3.785330130644790...|                NULL|         NULL| 5504.445295843624|    NULL|  NULL|     NULL|                NULL|  NULL|          NULL|\n",
      "| stddev|285.7997202441234|            NULL|         NULL|                NULL|         NULL|          NULL|            NULL|         NULL|              NULL|               NULL|2.307111981222392E9|1.247765855631418...|                NULL|         NULL|2598.1680843741237|    NULL|  NULL|     NULL|                NULL|  NULL|          NULL|\n",
      "|    min|             10.0|         Deposit| Aaron Abbott|000 Aaron Landing...|    Aaronberg|       Alabama|     Afghanistan| Abbott Group|Academic librarian|aabbott@example.com|      (200)201-4254|         60400015693|GB02AAAU191993009...|          AED|            1000.0|       A|     X|       No|A American and to...|Female|      Divorced|\n",
      "|    max|           1000.0|      Withdrawal|    Zoe Young|    99999 Mark Vista|  Zunigaville|       Wyoming|        Zimbabwe|Zuniga-Wilson|      Youth worker|zzuniga@example.org|         9999777682| 4999984361512569455|GB98ZZXM257326775...|          ZWD|            9999.0|       D|     Z|      Yes|Yourself young ev...| Other|        Single|\n",
      "+-------+-----------------+----------------+-------------+--------------------+-------------+--------------+----------------+-------------+------------------+-------------------+-------------------+--------------------+--------------------+-------------+------------------+--------+------+---------+--------------------+------+--------------+\n",
      "\n"
     ]
    }
   ],
   "source": [
    "df.describe().show()"
   ]
  },
  {
   "cell_type": "code",
   "execution_count": 54,
   "id": "d6975c4b",
   "metadata": {},
   "outputs": [],
   "source": [
    "# Fill up the missing values\n",
    "df_cleaned = df.fillna({\n",
    "    \"Customer_Name\": \"Unknown\",\n",
    "    \"Customer_Address\": \"Unknown\",\n",
    "    \"Customer_City\": \"Unknown\",\n",
    "    \"Customer_State\": \"Unknown\",\n",
    "    \"Customer_Country\": \"Unknown\",\n",
    "    \"Company\": \"Unknown\",\n",
    "    \"Job_Title\": \"Unknown\",\n",
    "    \"Email\": \"Unknown\",\n",
    "    \"Phone_Number\": \"Unknown\",\n",
    "    \"Credit_Card_Number\": 0,\n",
    "    \"IBAN\": \"Unknown\",\n",
    "    \"Currency_Code\": \"Unknown\",\n",
    "    \"Random_Number\": 0.0,\n",
    "    \"Category\": \"Unknown\",\n",
    "    \"Group\": \"Unknown\",\n",
    "    \"Is_Active\": \"Unknown\",\n",
    "    \"Description\": \"No Description\",\n",
    "    \"Gender\": \"Unknown\",\n",
    "    \"Marital_Status\": \"Unknown\"\n",
    "})\n",
    "    "
   ]
  },
  {
   "cell_type": "code",
   "execution_count": 55,
   "id": "cfe934a2",
   "metadata": {},
   "outputs": [],
   "source": [
    "# drop the missing values in the Last_Updated column\n",
    "df_cleaned = df_cleaned.dropna(subset=[\"Last_Updated\"])"
   ]
  },
  {
   "cell_type": "code",
   "execution_count": 56,
   "id": "45b8f93f",
   "metadata": {},
   "outputs": [
    {
     "name": "stdout",
     "output_type": "stream",
     "text": [
      "Column: Transaction_Date, 'Nulls: ', 0\n",
      "Column: Amount, 'Nulls: ', 0\n",
      "Column: Transaction_Type, 'Nulls: ', 0\n",
      "Column: Customer_Name, 'Nulls: ', 0\n",
      "Column: Customer_Address, 'Nulls: ', 0\n",
      "Column: Customer_City, 'Nulls: ', 0\n",
      "Column: Customer_State, 'Nulls: ', 0\n",
      "Column: Customer_Country, 'Nulls: ', 0\n",
      "Column: Company, 'Nulls: ', 0\n",
      "Column: Job_Title, 'Nulls: ', 0\n",
      "Column: Email, 'Nulls: ', 0\n",
      "Column: Phone_Number, 'Nulls: ', 0\n",
      "Column: Credit_Card_Number, 'Nulls: ', 0\n",
      "Column: IBAN, 'Nulls: ', 0\n",
      "Column: Currency_Code, 'Nulls: ', 0\n",
      "Column: Random_Number, 'Nulls: ', 0\n",
      "Column: Category, 'Nulls: ', 0\n",
      "Column: Group, 'Nulls: ', 0\n",
      "Column: Is_Active, 'Nulls: ', 0\n",
      "Column: Last_Updated, 'Nulls: ', 0\n",
      "Column: Description, 'Nulls: ', 0\n",
      "Column: Gender, 'Nulls: ', 0\n",
      "Column: Marital_Status, 'Nulls: ', 0\n"
     ]
    }
   ],
   "source": [
    "# Data cleaning and transformation\n",
    "for col in df_cleaned.columns:\n",
    "    print(f\"Column: {col}, 'Nulls: ', {df_cleaned.filter(df_cleaned[col].isNull()).count()}\")\n"
   ]
  },
  {
   "cell_type": "code",
   "execution_count": 57,
   "id": "54cf20c9",
   "metadata": {},
   "outputs": [],
   "source": [
    "# Data transformation\n",
    "# Transaction table\n",
    "transactions = df_cleaned.select(\"Transaction_Date\",\"Amount\",\"Transaction_Type\")\\\n",
    "                         .withColumn(\"Transaction_ID\", monotonically_increasing_id())\\\n",
    "                         .select(\"Transaction_ID\", \"Transaction_Date\", \"Amount\", \"Transaction_Type\")\n"
   ]
  },
  {
   "cell_type": "code",
   "execution_count": 58,
   "id": "8e2b9b69",
   "metadata": {},
   "outputs": [
    {
     "name": "stdout",
     "output_type": "stream",
     "text": [
      "+--------------+--------------------+------+----------------+\n",
      "|Transaction_ID|    Transaction_Date|Amount|Transaction_Type|\n",
      "+--------------+--------------------+------+----------------+\n",
      "|             0|2024-03-23 15:38:...| 34.76|      Withdrawal|\n",
      "|             1|2024-04-22 19:15:...|163.92|      Withdrawal|\n",
      "|             2|2024-04-12 19:46:...|386.32|      Withdrawal|\n",
      "|             3|2024-04-17 15:29:...|407.15|         Deposit|\n",
      "|             4|2024-02-10 01:51:...|161.31|         Deposit|\n",
      "+--------------+--------------------+------+----------------+\n",
      "only showing top 5 rows\n"
     ]
    }
   ],
   "source": [
    "transactions.show(5)"
   ]
  },
  {
   "cell_type": "code",
   "execution_count": 59,
   "id": "e1a01334",
   "metadata": {},
   "outputs": [],
   "source": [
    "# customer table\n",
    "customers = df_cleaned.select( \"Customer_Name\", \"Customer_Address\", \"Customer_City\", \n",
    "                               \"Customer_State\", \"Customer_Country\")\\\n",
    "                     .withColumn(\"Customer_ID\", monotonically_increasing_id())\\\n",
    "                        .select(\"Customer_ID\", \"Customer_Name\", \"Customer_Address\", \n",
    "                                \"Customer_City\", \"Customer_State\", \"Customer_Country\")\n",
    "                     "
   ]
  },
  {
   "cell_type": "code",
   "execution_count": 60,
   "id": "e94f8f73",
   "metadata": {},
   "outputs": [
    {
     "name": "stdout",
     "output_type": "stream",
     "text": [
      "+-----------+--------------+--------------------+------------------+--------------+--------------------+\n",
      "|Customer_ID| Customer_Name|    Customer_Address|     Customer_City|Customer_State|    Customer_Country|\n",
      "+-----------+--------------+--------------------+------------------+--------------+--------------------+\n",
      "|          0|    James Neal|54912 Holmes Lodg...| West Keithborough|       Florida|                Togo|\n",
      "|          1|   Thomas Long| 1133 Collin Passage|        Joshuabury|   Connecticut|Lao People's Demo...|\n",
      "|          2|Ashley Shelton|5297 Johnson Port...|       North Maria|    New Jersey|              Bhutan|\n",
      "|          3| James Rosario|56955 Moore Glens...|North Michellefurt|    New Mexico|             Iceland|\n",
      "|          4|Miguel Leonard|262 Beck Expressw...|           Unknown| West Virginia|             Eritrea|\n",
      "+-----------+--------------+--------------------+------------------+--------------+--------------------+\n",
      "only showing top 5 rows\n"
     ]
    }
   ],
   "source": [
    "customers.show(5)"
   ]
  },
  {
   "cell_type": "code",
   "execution_count": 61,
   "id": "96d52692",
   "metadata": {},
   "outputs": [],
   "source": [
    "# employee table\n",
    "employees = df_cleaned.select(\"company\", \"job_title\", \"email\", \"phone_number\", \"Gender\", \"Marital_Status\")\\\n",
    "                        .withColumn(\"Employee_ID\", monotonically_increasing_id())\\\n",
    "                        .select(\"Employee_ID\", \"company\", \"job_title\", \"email\", \"phone_number\",  \"Gender\", \"Marital_Status\")"
   ]
  },
  {
   "cell_type": "code",
   "execution_count": 62,
   "id": "e0279ee2",
   "metadata": {},
   "outputs": [
    {
     "name": "stdout",
     "output_type": "stream",
     "text": [
      "+-----------+--------------------+--------------------+--------------------+-------------------+-------+--------------+\n",
      "|Employee_ID|             company|           job_title|               email|       phone_number| Gender|Marital_Status|\n",
      "+-----------+--------------------+--------------------+--------------------+-------------------+-------+--------------+\n",
      "|          0|Benson, Johnson a...|             Unknown|             Unknown|  493.720.6609x7545|  Other|      Divorced|\n",
      "|          1|             Unknown|   Food technologist|michellelynch@exa...|      (497)554-3317| Female|       Married|\n",
      "|          2|       Jones-Mueller|Database administ...| ljordan@example.org|      (534)769-3072|  Other|       Unknown|\n",
      "|          3|       Vargas-Harris|Horticultural the...|parkerjames@examp...|+1-447-900-1320x257|Unknown|       Unknown|\n",
      "|          4|Richardson, Gonza...|   Minerals surveyor| zweaver@example.net|            Unknown| Female|       Married|\n",
      "+-----------+--------------------+--------------------+--------------------+-------------------+-------+--------------+\n",
      "only showing top 5 rows\n"
     ]
    }
   ],
   "source": [
    "employees.show(5)"
   ]
  },
  {
   "cell_type": "code",
   "execution_count": 63,
   "id": "04d0e1ea",
   "metadata": {},
   "outputs": [],
   "source": [
    "# fact table\n",
    "fact_table = df_cleaned.join(transactions, [\"Transaction_Date\",\"Amount\",\"Transaction_Type\"], how=\"inner\")\\\n",
    "    .join(customers, [ \"Customer_Name\", \"Customer_Address\", \"Customer_City\", \n",
    "                               \"Customer_State\", \"Customer_Country\"], how=\"inner\")\\\n",
    "    .join(employees, [\"company\", \"job_title\", \"email\", \"phone_number\", \"Gender\", \"Marital_Status\"] , how=\"inner\")\\\n",
    "    .select('Transaction_ID', 'Customer_ID', 'Employee_ID','Transaction_Date',  'Credit_Card_Number',\\\n",
    "     'IBAN','Currency_Code','Random_Number','Category','Group','Is_Active','Last_Updated','Description')\n",
    "                         "
   ]
  },
  {
   "cell_type": "code",
   "execution_count": 80,
   "id": "9e927979",
   "metadata": {},
   "outputs": [],
   "source": [
    "fact_table = fact_table.withColumn(\n",
    "    'Is_Active', \n",
    "    (col('Is_Active') == 'True').cast('boolean')\n",
    ")"
   ]
  },
  {
   "cell_type": "code",
   "execution_count": 64,
   "id": "997d8542",
   "metadata": {},
   "outputs": [
    {
     "name": "stdout",
     "output_type": "stream",
     "text": [
      "+--------------+-----------+-----------+--------------------+-------------------+--------------------+-------------+-------------+--------+-----+---------+--------------------+--------------------+\n",
      "|Transaction_ID|Customer_ID|Employee_ID|    Transaction_Date| Credit_Card_Number|                IBAN|Currency_Code|Random_Number|Category|Group|Is_Active|        Last_Updated|         Description|\n",
      "+--------------+-----------+-----------+--------------------+-------------------+--------------------+-------------+-------------+--------+-----+---------+--------------------+--------------------+\n",
      "|   17179921196|17179921196|17179921196|2024-01-03 05:07:...|4131053293826613966|GB78CKOS832138470...|          GNF|       7475.0|       B|    Z|      Yes|2022-02-06 23:35:...|Health sure story...|\n",
      "|         29992|      29992|      29992|2024-02-23 16:43:...|   2452924189738024|GB50ZGVC717046003...|          TRY|       9153.0|       D|    Z|       No|2021-11-26 08:47:...|Wait represent ge...|\n",
      "|   25769840960|25769840960|25769840960|2024-02-21 20:58:...|   4625846628264239|GB97NDWP370396356...|          BSD|       6117.0| Unknown|    X|      Yes|2023-02-14 08:41:...|Onto give past no...|\n",
      "|   60129626495|60129626495|60129626495|2024-04-26 22:02:...|                  0|GB11VVRM027865406...|      Unknown|       6669.0|       C|    X|       No|2022-04-13 17:22:...|Teach military ev...|\n",
      "|        103516|     103516|     103516|2024-02-07 05:19:...|     30167114834907|GB09TXTK261344054...|          PHP|          0.0|       C|    Z|      Yes|2022-11-03 23:14:...|Sport internation...|\n",
      "+--------------+-----------+-----------+--------------------+-------------------+--------------------+-------------+-------------+--------+-----+---------+--------------------+--------------------+\n",
      "only showing top 5 rows\n"
     ]
    }
   ],
   "source": [
    "fact_table.show(5)"
   ]
  },
  {
   "cell_type": "code",
   "execution_count": 65,
   "id": "7bd85118",
   "metadata": {},
   "outputs": [
    {
     "name": "stdout",
     "output_type": "stream",
     "text": [
      "Defaulting to user installation because normal site-packages is not writeable\n",
      "Requirement already satisfied: python-dotenv in c:\\users\\user\\appdata\\roaming\\python\\python313\\site-packages (1.1.0)\n",
      "Note: you may need to restart the kernel to use updated packages.\n"
     ]
    }
   ],
   "source": [
    "pip install python-dotenv\n"
   ]
  },
  {
   "cell_type": "code",
   "execution_count": 66,
   "id": "6e1bb0a6",
   "metadata": {},
   "outputs": [],
   "source": [
    "from dotenv import load_dotenv\n",
    "import os\n",
    "load_dotenv()\n",
    "\n",
    "# Get the password\n",
    "db_password = os.getenv(\"DB_PASSWORD\")\n",
    "\n",
    "# Data loading\n",
    "def get_db_connection():\n",
    "    conn = psycopg2.connect(\n",
    "        host=\"localhost\",\n",
    "        database=\"g_pay_bank\",\n",
    "        user=\"postgres\",\n",
    "        password=db_password\n",
    "    )\n",
    "    return conn\n",
    "\n",
    "# connect to the database\n",
    "conn = get_db_connection()\n"
   ]
  },
  {
   "cell_type": "code",
   "execution_count": 67,
   "id": "ae867dee",
   "metadata": {},
   "outputs": [
    {
     "name": "stdout",
     "output_type": "stream",
     "text": [
      "root\n",
      " |-- Transaction_ID: long (nullable = false)\n",
      " |-- Transaction_Date: timestamp (nullable = true)\n",
      " |-- Amount: double (nullable = true)\n",
      " |-- Transaction_Type: string (nullable = true)\n",
      "\n"
     ]
    }
   ],
   "source": [
    "transactions.printSchema()"
   ]
  },
  {
   "cell_type": "code",
   "execution_count": 68,
   "id": "153fe104",
   "metadata": {},
   "outputs": [],
   "source": [
    "# create the tables in the database\n",
    "def create_table():\n",
    "    cursor = conn.cursor()\n",
    "    create_table_query = \"\"\"\n",
    "        DROP TABLE IF EXISTS fact_table;\n",
    "        DROP TABLE IF EXISTS transactions;\n",
    "        DROP TABLE IF EXISTS customers;\n",
    "        DROP TABLE IF EXISTS employees;\n",
    "\n",
    "        CREATE TABLE transactions (\n",
    "            Transaction_ID BIGINT PRIMARY KEY,\n",
    "            Transaction_Date DATE NOT NULL,\n",
    "            Amount DECIMAL(18, 4) NOT NULL,\n",
    "            Transaction_Type VARCHAR(50) NOT NULL\n",
    "        );\n",
    "\n",
    "        CREATE TABLE customers (\n",
    "            Customer_ID BIGINT PRIMARY KEY,\n",
    "            Customer_Name VARCHAR(1000) NOT NULL,\n",
    "            Customer_Address VARCHAR(2550) NOT NULL,\n",
    "            Customer_City VARCHAR(1000) NOT NULL,\n",
    "            Customer_State VARCHAR(1000) NOT NULL,\n",
    "            Customer_Country VARCHAR(1000) NOT NULL\n",
    "        );\n",
    "\n",
    "        CREATE TABLE employees (\n",
    "            Employee_ID BIGINT PRIMARY KEY,\n",
    "            Company VARCHAR(1000) NOT NULL,\n",
    "            Job_Title VARCHAR(1000) NOT NULL,\n",
    "            Email VARCHAR(1000) NOT NULL,\n",
    "            Phone_Number VARCHAR(200) NOT NULL,\n",
    "            Gender VARCHAR(50) NOT NULL,\n",
    "            Marital_Status VARCHAR(200) NOT NULL\n",
    "        );\n",
    "\n",
    "        CREATE TABLE fact_table (\n",
    "            Transaction_ID BIGINT REFERENCES transactions(Transaction_ID),\n",
    "            Customer_ID BIGINT REFERENCES customers(Customer_ID),\n",
    "            Employee_ID BIGINT REFERENCES employees(Employee_ID),\n",
    "            Transaction_Date DATE NOT NULL,\n",
    "            Credit_Card_Number VARCHAR(200) NOT NULL,\n",
    "            IBAN VARCHAR(34) NOT NULL,\n",
    "            Currency_Code VARCHAR(100) NOT NULL,\n",
    "            Random_Number DOUBLE PRECISION NOT NULL,\n",
    "            Category VARCHAR(1000) NOT NULL,\n",
    "            \"Group\" VARCHAR(1000) NOT NULL,\n",
    "            Is_Active BOOLEAN NOT NULL,\n",
    "            Last_Updated TIMESTAMP NOT NULL,\n",
    "            Description TEXT\n",
    "        );\n",
    "    \"\"\"\n",
    "    cursor.execute(create_table_query)\n",
    "    conn.commit()\n",
    "    cursor.close()\n"
   ]
  },
  {
   "cell_type": "code",
   "execution_count": 81,
   "id": "1d501030",
   "metadata": {},
   "outputs": [
    {
     "name": "stdout",
     "output_type": "stream",
     "text": [
      "root\n",
      " |-- Transaction_ID: long (nullable = false)\n",
      " |-- Customer_ID: long (nullable = false)\n",
      " |-- Employee_ID: long (nullable = false)\n",
      " |-- Transaction_Date: timestamp (nullable = true)\n",
      " |-- Credit_Card_Number: long (nullable = false)\n",
      " |-- IBAN: string (nullable = false)\n",
      " |-- Currency_Code: string (nullable = false)\n",
      " |-- Random_Number: double (nullable = false)\n",
      " |-- Category: string (nullable = false)\n",
      " |-- Group: string (nullable = false)\n",
      " |-- Is_Active: boolean (nullable = false)\n",
      " |-- Last_Updated: timestamp (nullable = true)\n",
      " |-- Description: string (nullable = false)\n",
      "\n"
     ]
    }
   ],
   "source": [
    "fact_table.printSchema()"
   ]
  },
  {
   "cell_type": "code",
   "execution_count": 70,
   "id": "bfa8d68e",
   "metadata": {},
   "outputs": [],
   "source": [
    "create_table()"
   ]
  },
  {
   "cell_type": "code",
   "execution_count": 71,
   "id": "2b621931",
   "metadata": {},
   "outputs": [],
   "source": [
    "url = \"jdbc:postgresql://localhost:5432/g_pay_bank\"\n",
    "properties = {\n",
    "    \"user\": \"postgres\",\n",
    "    \"password\": db_password,\n",
    "    \"driver\": \"org.postgresql.Driver\"\n",
    "}\n",
    "\n",
    "# Load data into the database\n",
    "transactions.write.jdbc(url=url, table=\"transactions\", mode=\"append\", properties=properties)\n",
    "\n"
   ]
  },
  {
   "cell_type": "code",
   "execution_count": 72,
   "id": "45ba0d1f",
   "metadata": {},
   "outputs": [],
   "source": [
    "customers.write.jdbc(url=url, table=\"customers\", mode=\"append\", properties=properties)"
   ]
  },
  {
   "cell_type": "code",
   "execution_count": null,
   "id": "e86a4754",
   "metadata": {},
   "outputs": [],
   "source": [
    "employees.write.jdbc(url=url, table=\"employees\", mode=\"append\", properties=properties)"
   ]
  },
  {
   "cell_type": "code",
   "execution_count": 82,
   "id": "db70e941",
   "metadata": {},
   "outputs": [],
   "source": [
    "fact_table.write.jdbc(url=url, table=\"fact_table\", mode=\"append\", properties=properties)"
   ]
  }
 ],
 "metadata": {
  "kernelspec": {
   "display_name": "Python 3",
   "language": "python",
   "name": "python3"
  },
  "language_info": {
   "codemirror_mode": {
    "name": "ipython",
    "version": 3
   },
   "file_extension": ".py",
   "mimetype": "text/x-python",
   "name": "python",
   "nbconvert_exporter": "python",
   "pygments_lexer": "ipython3",
   "version": "3.13.0"
  }
 },
 "nbformat": 4,
 "nbformat_minor": 5
}
