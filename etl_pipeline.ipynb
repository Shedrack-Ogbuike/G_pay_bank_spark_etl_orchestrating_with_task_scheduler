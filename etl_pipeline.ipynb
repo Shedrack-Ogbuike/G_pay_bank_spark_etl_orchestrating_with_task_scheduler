{
 "cells": [
  {
   "cell_type": "code",
   "execution_count": 1,
   "id": "a49da7ae",
   "metadata": {},
   "outputs": [],
   "source": [
    "# Installing pyspark on a local machine\n",
    "# import Necessary libraries\n",
    "from pyspark.sql import SparkSession\n",
    "from pyspark.sql import functions as F\n",
    "from pyspark.sql.types import StructType, StructField, StringType, IntegerType\n",
    "from pyspark.sql import DataFrameWriter\n",
    "from pyspark.sql.functions import monotonically_increasing_id\n",
    "import os\n",
    "import psycopg2\n"
   ]
  },
  {
   "cell_type": "code",
   "execution_count": 2,
   "id": "870aa9a0",
   "metadata": {},
   "outputs": [],
   "source": [
    "# Initialize Spark session\n",
    "spark = SparkSession.builder \\\n",
    "    .appName(\"BanksETL\") \\\n",
    "    .master(\"local[*]\") \\\n",
    "    .config(\"spark.jars\", r\"C:\\Users\\user\\Desktop\\G_pay_bank\\postgresql-42.7.7.jar\") \\\n",
    "    .getOrCreate()"
   ]
  },
  {
   "cell_type": "code",
   "execution_count": 3,
   "id": "4fd8782a",
   "metadata": {},
   "outputs": [
    {
     "data": {
      "text/html": [
       "\n",
       "            <div>\n",
       "                <p><b>SparkSession - in-memory</b></p>\n",
       "                \n",
       "        <div>\n",
       "            <p><b>SparkContext</b></p>\n",
       "\n",
       "            <p><a href=\"http://DESKTOP-NV8LV4E:4040\">Spark UI</a></p>\n",
       "\n",
       "            <dl>\n",
       "              <dt>Version</dt>\n",
       "                <dd><code>v4.0.0</code></dd>\n",
       "              <dt>Master</dt>\n",
       "                <dd><code>local[*]</code></dd>\n",
       "              <dt>AppName</dt>\n",
       "                <dd><code>BanksETL</code></dd>\n",
       "            </dl>\n",
       "        </div>\n",
       "        \n",
       "            </div>\n",
       "        "
      ],
      "text/plain": [
       "<pyspark.sql.session.SparkSession at 0x22605d9d6a0>"
      ]
     },
     "execution_count": 3,
     "metadata": {},
     "output_type": "execute_result"
    }
   ],
   "source": [
    "spark"
   ]
  },
  {
   "cell_type": "code",
   "execution_count": 4,
   "id": "a6206fc7",
   "metadata": {},
   "outputs": [],
   "source": [
    "# Extract  this history data into a spark dataframe\n",
    "df = spark.read.csv(r\"dataset\\rawdata\\G_pay_bank_transactions.csv\", header=True, inferSchema=True)\n"
   ]
  },
  {
   "cell_type": "code",
   "execution_count": 5,
   "id": "7bb7113a",
   "metadata": {},
   "outputs": [
    {
     "name": "stdout",
     "output_type": "stream",
     "text": [
      "+--------------------+------+----------------+--------------+--------------------+------------------+--------------+--------------------+--------------------+--------------------+--------------------+-------------------+------------------+--------------------+-------------+-------------+--------+-----+---------+--------------------+--------------------+------+--------------+\n",
      "|    Transaction_Date|Amount|Transaction_Type| Customer_Name|    Customer_Address|     Customer_City|Customer_State|    Customer_Country|             Company|           Job_Title|               Email|       Phone_Number|Credit_Card_Number|                IBAN|Currency_Code|Random_Number|Category|Group|Is_Active|        Last_Updated|         Description|Gender|Marital_Status|\n",
      "+--------------------+------+----------------+--------------+--------------------+------------------+--------------+--------------------+--------------------+--------------------+--------------------+-------------------+------------------+--------------------+-------------+-------------+--------+-----+---------+--------------------+--------------------+------+--------------+\n",
      "|2024-03-23 15:38:...| 34.76|      Withdrawal|    James Neal|54912 Holmes Lodg...| West Keithborough|       Florida|                Togo|Benson, Johnson a...|                NULL|                NULL|  493.720.6609x7545|  3592901394693441|GB98RBPP090285271...|          MAD|       3167.0|       C|    Z|       No|2020-06-20 03:04:...|Yeah food anythin...| Other|      Divorced|\n",
      "|2024-04-22 19:15:...|163.92|      Withdrawal|   Thomas Long| 1133 Collin Passage|        Joshuabury|   Connecticut|Lao People's Demo...|                NULL|   Food technologist|michellelynch@exa...|      (497)554-3317|              NULL|GB03KFZR339662263...|          VEF|       2122.0|       B|    Z|     NULL|2020-12-27 13:23:...|Teach edge make n...|Female|       Married|\n",
      "|2024-04-12 19:46:...|386.32|      Withdrawal|Ashley Shelton|5297 Johnson Port...|       North Maria|    New Jersey|              Bhutan|       Jones-Mueller|Database administ...| ljordan@example.org|      (534)769-3072|      675983949974|GB59QYRN446730519...|          COP|       7796.0|       C|    Z|       No|2020-01-24 01:23:...|Again line face c...| Other|          NULL|\n",
      "|2024-04-17 15:29:...|407.15|         Deposit| James Rosario|56955 Moore Glens...|North Michellefurt|    New Mexico|             Iceland|       Vargas-Harris|Horticultural the...|parkerjames@examp...|+1-447-900-1320x257|     4761202519057|GB74FTDO268299438...|          BWP|       6284.0|       C|    Z|      Yes|2023-09-27 03:01:...|     Bag my a drive.|  NULL|          NULL|\n",
      "|2024-02-10 01:51:...|161.31|         Deposit|Miguel Leonard|262 Beck Expressw...|              NULL| West Virginia|             Eritrea|Richardson, Gonza...|   Minerals surveyor| zweaver@example.net|               NULL|   213156729655186|GB94EWRN587847592...|          SOS|       9179.0|       C|    Y|       No|2022-01-22 19:08:...|Husband find ok w...|Female|       Married|\n",
      "+--------------------+------+----------------+--------------+--------------------+------------------+--------------+--------------------+--------------------+--------------------+--------------------+-------------------+------------------+--------------------+-------------+-------------+--------+-----+---------+--------------------+--------------------+------+--------------+\n",
      "only showing top 5 rows\n"
     ]
    }
   ],
   "source": [
    "df.show(5)"
   ]
  },
  {
   "cell_type": "code",
   "execution_count": 6,
   "id": "7260bbb0",
   "metadata": {},
   "outputs": [
    {
     "name": "stdout",
     "output_type": "stream",
     "text": [
      "root\n",
      " |-- Transaction_Date: timestamp (nullable = true)\n",
      " |-- Amount: double (nullable = true)\n",
      " |-- Transaction_Type: string (nullable = true)\n",
      " |-- Customer_Name: string (nullable = true)\n",
      " |-- Customer_Address: string (nullable = true)\n",
      " |-- Customer_City: string (nullable = true)\n",
      " |-- Customer_State: string (nullable = true)\n",
      " |-- Customer_Country: string (nullable = true)\n",
      " |-- Company: string (nullable = true)\n",
      " |-- Job_Title: string (nullable = true)\n",
      " |-- Email: string (nullable = true)\n",
      " |-- Phone_Number: string (nullable = true)\n",
      " |-- Credit_Card_Number: long (nullable = true)\n",
      " |-- IBAN: string (nullable = true)\n",
      " |-- Currency_Code: string (nullable = true)\n",
      " |-- Random_Number: double (nullable = true)\n",
      " |-- Category: string (nullable = true)\n",
      " |-- Group: string (nullable = true)\n",
      " |-- Is_Active: string (nullable = true)\n",
      " |-- Last_Updated: timestamp (nullable = true)\n",
      " |-- Description: string (nullable = true)\n",
      " |-- Gender: string (nullable = true)\n",
      " |-- Marital_Status: string (nullable = true)\n",
      "\n"
     ]
    }
   ],
   "source": [
    "df.printSchema()"
   ]
  },
  {
   "cell_type": "code",
   "execution_count": 7,
   "id": "6c57d593",
   "metadata": {},
   "outputs": [
    {
     "name": "stdout",
     "output_type": "stream",
     "text": [
      "Column: Transaction_Date, Nulls: 0\n",
      "Column: Amount, Nulls: 0\n",
      "Column: Transaction_Type, Nulls: 0\n",
      "Column: Customer_Name, Nulls: 100425\n",
      "Column: Customer_Address, Nulls: 100087\n",
      "Column: Customer_City, Nulls: 100034\n",
      "Column: Customer_State, Nulls: 100009\n",
      "Column: Customer_Country, Nulls: 100672\n",
      "Column: Company, Nulls: 100295\n",
      "Column: Job_Title, Nulls: 99924\n",
      "Column: Email, Nulls: 100043\n",
      "Column: Phone_Number, Nulls: 100524\n",
      "Column: Credit_Card_Number, Nulls: 100085\n",
      "Column: IBAN, Nulls: 100300\n",
      "Column: Currency_Code, Nulls: 99342\n",
      "Column: Random_Number, Nulls: 99913\n",
      "Column: Category, Nulls: 100332\n",
      "Column: Group, Nulls: 100209\n",
      "Column: Is_Active, Nulls: 100259\n",
      "Column: Last_Updated, Nulls: 100321\n",
      "Column: Description, Nulls: 100403\n",
      "Column: Gender, Nulls: 99767\n",
      "Column: Marital_Status, Nulls: 99904\n"
     ]
    }
   ],
   "source": [
    "# Data cleaning and transformation\n",
    "for col in df.columns:\n",
    "    print(f\"Column: {col}, Nulls: {df.filter(df[col].isNull()).count()}\")\n"
   ]
  },
  {
   "cell_type": "code",
   "execution_count": 8,
   "id": "4c82fed4",
   "metadata": {},
   "outputs": [
    {
     "name": "stdout",
     "output_type": "stream",
     "text": [
      "+-------+-----------------+----------------+-------------+--------------------+-------------+--------------+----------------+-------------+------------------+-------------------+-------------------+--------------------+--------------------+-------------+------------------+--------+------+---------+--------------------+------+--------------+\n",
      "|summary|           Amount|Transaction_Type|Customer_Name|    Customer_Address|Customer_City|Customer_State|Customer_Country|      Company|         Job_Title|              Email|       Phone_Number|  Credit_Card_Number|                IBAN|Currency_Code|     Random_Number|Category| Group|Is_Active|         Description|Gender|Marital_Status|\n",
      "+-------+-----------------+----------------+-------------+--------------------+-------------+--------------+----------------+-------------+------------------+-------------------+-------------------+--------------------+--------------------+-------------+------------------+--------+------+---------+--------------------+------+--------------+\n",
      "|  count|          1000000|         1000000|       899575|              899913|       899966|        899991|          899328|       899705|            900076|             899957|             899476|              899915|              899700|       900658|            900087|  899668|899791|   899741|              899597|900233|        900096|\n",
      "|   mean|504.9737112199981|            NULL|         NULL|                NULL|         NULL|          NULL|            NULL|         NULL|              NULL|               NULL| 6.00341888622502E9|3.785330130644790...|                NULL|         NULL| 5504.445295843624|    NULL|  NULL|     NULL|                NULL|  NULL|          NULL|\n",
      "| stddev|285.7997202441234|            NULL|         NULL|                NULL|         NULL|          NULL|            NULL|         NULL|              NULL|               NULL|2.307111981222392E9|1.247765855631418...|                NULL|         NULL|2598.1680843741237|    NULL|  NULL|     NULL|                NULL|  NULL|          NULL|\n",
      "|    min|             10.0|         Deposit| Aaron Abbott|000 Aaron Landing...|    Aaronberg|       Alabama|     Afghanistan| Abbott Group|Academic librarian|aabbott@example.com|      (200)201-4254|         60400015693|GB02AAAU191993009...|          AED|            1000.0|       A|     X|       No|A American and to...|Female|      Divorced|\n",
      "|    max|           1000.0|      Withdrawal|    Zoe Young|    99999 Mark Vista|  Zunigaville|       Wyoming|        Zimbabwe|Zuniga-Wilson|      Youth worker|zzuniga@example.org|         9999777682| 4999984361512569455|GB98ZZXM257326775...|          ZWD|            9999.0|       D|     Z|      Yes|Yourself young ev...| Other|        Single|\n",
      "+-------+-----------------+----------------+-------------+--------------------+-------------+--------------+----------------+-------------+------------------+-------------------+-------------------+--------------------+--------------------+-------------+------------------+--------+------+---------+--------------------+------+--------------+\n",
      "\n"
     ]
    }
   ],
   "source": [
    "df.describe().show()"
   ]
  },
  {
   "cell_type": "code",
   "execution_count": 22,
   "id": "d6975c4b",
   "metadata": {},
   "outputs": [],
   "source": [
    "# Fill up the missing values\n",
    "df_cleaned = df.fillna({\n",
    "    \"Customer_Name\": \"Unknown\",\n",
    "    \"Customer_Address\": \"Unknown\",\n",
    "    \"Customer_City\": \"Unknown\",\n",
    "    \"Customer_State\": \"Unknown\",\n",
    "    \"Customer_Country\": \"Unknown\",\n",
    "    \"Company\": \"Unknown\",\n",
    "    \"Job_Title\": \"Unknown\",\n",
    "    \"Email\": \"Unknown\",\n",
    "    \"Phone_Number\": \"Unknown\",\n",
    "    \"Credit_Card_Number\": 0,\n",
    "    \"IBAN\": \"Unknown\",\n",
    "    \"Currency_Code\": \"Unknown\",\n",
    "    \"Random_Number\": 0.0,\n",
    "    \"Category\": \"Unknown\",\n",
    "    \"Group\": \"Unknown\",\n",
    "    \"Is_Active\": \"Unknown\",\n",
    "    \"Description\": \"No Description\",\n",
    "    \"Gender\": \"Unknown\",\n",
    "    \"Marital_Status\": \"Unknown\"\n",
    "})\n",
    "    "
   ]
  },
  {
   "cell_type": "code",
   "execution_count": 23,
   "id": "cfe934a2",
   "metadata": {},
   "outputs": [],
   "source": [
    "# drop the missing values in the Last_Updated column\n",
    "df_cleaned = df_cleaned.dropna(subset=[\"Last_Updated\"])"
   ]
  },
  {
   "cell_type": "code",
   "execution_count": 26,
   "id": "45b8f93f",
   "metadata": {},
   "outputs": [
    {
     "name": "stdout",
     "output_type": "stream",
     "text": [
      "Column: Transaction_Date, 'Nulls: ', 0\n",
      "Column: Amount, 'Nulls: ', 0\n",
      "Column: Transaction_Type, 'Nulls: ', 0\n",
      "Column: Customer_Name, 'Nulls: ', 0\n",
      "Column: Customer_Address, 'Nulls: ', 0\n",
      "Column: Customer_City, 'Nulls: ', 0\n",
      "Column: Customer_State, 'Nulls: ', 0\n",
      "Column: Customer_Country, 'Nulls: ', 0\n",
      "Column: Company, 'Nulls: ', 0\n",
      "Column: Job_Title, 'Nulls: ', 0\n",
      "Column: Email, 'Nulls: ', 0\n",
      "Column: Phone_Number, 'Nulls: ', 0\n",
      "Column: Credit_Card_Number, 'Nulls: ', 0\n",
      "Column: IBAN, 'Nulls: ', 0\n",
      "Column: Currency_Code, 'Nulls: ', 0\n",
      "Column: Random_Number, 'Nulls: ', 0\n",
      "Column: Category, 'Nulls: ', 0\n",
      "Column: Group, 'Nulls: ', 0\n",
      "Column: Is_Active, 'Nulls: ', 0\n",
      "Column: Last_Updated, 'Nulls: ', 0\n",
      "Column: Description, 'Nulls: ', 0\n",
      "Column: Gender, 'Nulls: ', 0\n",
      "Column: Marital_Status, 'Nulls: ', 0\n"
     ]
    }
   ],
   "source": [
    "# Data cleaning and transformation\n",
    "for col in df_cleaned.columns:\n",
    "    print(f\"Column: {col}, 'Nulls: ', {df_cleaned.filter(df_cleaned[col].isNull()).count()}\")\n"
   ]
  }
 ],
 "metadata": {
  "kernelspec": {
   "display_name": "Python 3",
   "language": "python",
   "name": "python3"
  },
  "language_info": {
   "codemirror_mode": {
    "name": "ipython",
    "version": 3
   },
   "file_extension": ".py",
   "mimetype": "text/x-python",
   "name": "python",
   "nbconvert_exporter": "python",
   "pygments_lexer": "ipython3",
   "version": "3.13.0"
  }
 },
 "nbformat": 4,
 "nbformat_minor": 5
}
